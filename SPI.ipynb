{
 "cells": [
  {
   "cell_type": "markdown",
   "id": "bc180095-8e1b-4255-8461-7de44d8f7c32",
   "metadata": {
    "jp-MarkdownHeadingCollapsed": true
   },
   "source": [
    "# Drought Monitoring Using The Standardized Precipitation Index (SPI)\n",
    "\n",
    "Author - Nitin Magima\n",
    "\n",
    "Date - Feb 2024\n",
    "\n",
    "Version - 1.0\n",
    "\n",
    "The Standardized Precipitation Index (SPI) developed by McKee et al. (1993) describes the probability of variation from the normal precipitation over multiple years of data, on a monthly (or multiple months) time step. The SPI is calculated by taking the precipitation of the pixel i during timeframe j of year k minus the mean of pixel i during timeframe j over n years, divided by the standard deviation of pixel i during timeframe j over n years.\n",
    "\n",
    "The aim of the jupyter notebook is to create a standardized precipitation index (SPI) timeline based on daily CHIRPS data (since 1981). The SPI is used as it highlights the difference to the mean precipitation during a given time and therefore provides information about drought-like conditions. The script will be executed within Google Earth Engine and will work on two independent SPI calculations. \n",
    "\n",
    "The first calculation deals with the \"common\" SPI, which is calculated on an n-months basis. A SPI, which is calculated for one month usually refers to the description of \"SPI-1\", for six months \"SPI-6\" and so on. The second SPI calculation is based on MODIS capture dates. As MODIS (MOD13Q1.006) provides information about the vegetation, it might be useful to compare its vegetation indices with the SPI. Therefore a 16-day SPI is calculated, whose start date matches with MODIS's start date (if the user does not apply a 'shift').\n",
    "\n",
    "As precipitation data is usually not normally distributed, especially when it comes to timeframes of 12 months or less, a transformation should be applied. The data is typically fitted to a gamma function, but not supported in the script. The resulting SPI values can therefore just be used as an estimator.\n",
    "\n",
    "Google Earth Engine (GEE) is a web-platform for cloud-based processing of remote sensing data on a large scale. The advantage lies in its remarkable computation speed as processing is outsourced to Google servers. The platform provides a variety of constantly updated datasets; no download of raw imagery is required. While it is free of charge, one still needs to activate access to Google Earth Engine with a valid Google account.\n",
    "\n",
    "\n",
    "DISCLAIMER\n",
    "\n",
    "This is a set of scripts  shared for educational purposes only.  Anyone who uses this code or its\n",
    "functionality or structure, assumes full liability and credit the author.\n",
    "\n",
    "Map Disclaimer\n",
    "\n",
    "The designations employed and the presentation of the material on this map do not imply the expression \n",
    "of any opinion whatsoever on the part of the author concerning the legal status of any country, territory, city or area or of its authorities, or concerning the delimitation of its \n",
    "frontiers or boundaries.\n",
    "\n",
    "Source\n",
    "- [UN-SPIDER Knowledge Portal](https://www.un-spider.org/advisory-support/recommended-practices/recommended-practice-drought-monitoring-spi)"
   ]
  },
  {
   "cell_type": "markdown",
   "id": "fdd7bf77-1e08-4147-92ce-cc8873175911",
   "metadata": {},
   "source": [
    "# Google Earth Engine Setup"
   ]
  },
  {
   "cell_type": "markdown",
   "id": "cb047661-d06f-4e53-ac76-eb7185363244",
   "metadata": {},
   "source": [
    "### Install Geemap"
   ]
  },
  {
   "cell_type": "code",
   "execution_count": null,
   "id": "6dfeaf29-982a-4806-95e8-862ff3cf91e3",
   "metadata": {},
   "outputs": [],
   "source": [
    "%pip install -U \"geemap[workshop]\""
   ]
  },
  {
   "cell_type": "markdown",
   "id": "9277d0f7-1f6f-459b-8d80-9ede43e043a2",
   "metadata": {},
   "source": [
    "### Import libraries\n",
    "\n",
    "Import the earthengine-api and geemap."
   ]
  },
  {
   "cell_type": "code",
   "execution_count": null,
   "id": "5026776c-eb76-4c3e-9645-d58615dab903",
   "metadata": {},
   "outputs": [],
   "source": [
    "import ee\n",
    "import geemap"
   ]
  },
  {
   "cell_type": "markdown",
   "id": "bc1f9c4d-0687-4017-993e-6316cde745b2",
   "metadata": {},
   "source": [
    "### Authenticate and initialize Earth Engine\n",
    "\n",
    "You will need to create a [Google Cloud Project](https://console.cloud.google.com/projectcreate) and enable the [Earth Engine API](https://console.cloud.google.com/apis/api/earthengine.googleapis.com) for the project. You can find detailed instructions [here](https://book.geemap.org/chapters/01_introduction.html#earth-engine-authentication)."
   ]
  },
  {
   "cell_type": "code",
   "execution_count": null,
   "id": "0069b97b-a861-4f2e-a40b-132a3dda9ac6",
   "metadata": {},
   "outputs": [],
   "source": [
    "ee.Authenticate()"
   ]
  },
  {
   "cell_type": "markdown",
   "id": "00beeb9b-cca2-4470-b560-de4b2d3331b5",
   "metadata": {},
   "source": [
    "Update the project below."
   ]
  },
  {
   "cell_type": "code",
   "execution_count": null,
   "id": "95a21459-2559-497a-a35c-fa0e1497fc32",
   "metadata": {},
   "outputs": [],
   "source": [
    "ee.Initialize(project=\"\")"
   ]
  },
  {
   "cell_type": "markdown",
   "id": "287a4b18-473e-43a2-b1d4-52dacb81e962",
   "metadata": {},
   "source": [
    "## Initialize Map"
   ]
  },
  {
   "cell_type": "code",
   "execution_count": null,
   "id": "e47189ba-9c3f-4236-b20a-79477caf5f63",
   "metadata": {},
   "outputs": [],
   "source": [
    "# Creating a map\n",
    "m = geemap.Map(basemap='WorldTopoMap')\n",
    "m"
   ]
  },
  {
   "cell_type": "markdown",
   "id": "037a3e5f-a43a-402f-9dd1-39beccd7523f",
   "metadata": {},
   "source": [
    "# SPI Calculation Setup"
   ]
  },
  {
   "cell_type": "markdown",
   "id": "efa1c51f-e35c-49b9-9de9-0937de026a64",
   "metadata": {},
   "source": [
    "## Select Your Study Area"
   ]
  },
  {
   "cell_type": "markdown",
   "id": "f17ae953-956c-40a1-af70-6dffeacebe84",
   "metadata": {},
   "source": [
    "We use the [FAO GAUL: Global Administrative Unit Layers](https://data.apps.fao.org/catalog/dataset/global-administrative-unit-layers-gaul) for country focused analysis.\n",
    "\n",
    "The Global Administrative Unit Layers (GAUL) compiles and disseminates the best available information on administrative units for all the countries in the world, providing a contribution to the standardization of the spatial dataset representing administrative units. The GAUL always maintains global layers with a unified coding system at country, first (e.g. departments), and second administrative levels (e.g. districts). Where data is available, it provides layers on a country by country basis down to third, fourth, and lowers levels.\n",
    "\n",
    "You can use the drawing tools to draw a polygon on the map above as well."
   ]
  },
  {
   "cell_type": "markdown",
   "id": "d080a8ab-facb-4c8f-aa8d-c6b7a5f94b15",
   "metadata": {},
   "source": [
    "Please enter the country name and admin level below. You can refer to the links below to help you. Use the \"ADM0_NAME\" column to use the correct name or spelling for a country.\n",
    "\n",
    "1. [FAO GAUL: Global Administrative Unit Layers Admin 0 Reference](https://www.fao.org/in-action/countrystat/news-and-events/events/training-material/gaul-codes2014/en/)\n",
    "2. [FAO GAUL: Global Administrative Unit Layers](https://data.apps.fao.org/catalog/dataset/gaul-codes)"
   ]
  },
  {
   "cell_type": "code",
   "execution_count": null,
   "id": "0967ac94-be45-4bfd-aad7-e7bacef854e1",
   "metadata": {},
   "outputs": [],
   "source": [
    "country_name = 'Madagascar'\n",
    "admin_level = 'level1' #use 'level0' or 'level1'"
   ]
  },
  {
   "cell_type": "code",
   "execution_count": null,
   "id": "7c107262-c295-4a67-8e1a-5ec457441ce3",
   "metadata": {},
   "outputs": [],
   "source": [
    "roi = m.user_roi\n",
    "\n",
    "if roi is None:\n",
    "    roi = ee.FeatureCollection(f\"FAO/GAUL/2015/{admin_level}\")\n",
    "    roi = roi.filter(ee.Filter.eq('ADM0_NAME', country_name))\n",
    "    \n",
    "    # Define style parameters for visualization\n",
    "    styleParams = {\n",
    "        'fillColor': 'b5ffb4',\n",
    "        'color': '00909F',\n",
    "        'width': 1.0,\n",
    "    }\n",
    "    \n",
    "    # Create a styled version of the ROI for visualization purposes only\n",
    "    styledRoi = roi.style(**styleParams)\n",
    "    \n",
    "    # Add the styled ROI to the map for visualization\n",
    "    m.addLayer(styledRoi, {}, country_name)\n",
    "\n",
    "# Use 'roi' for clipping and other operations\n",
    "# Do not use 'styledRoi' for operations other than visualization\n",
    "\n",
    "# Check the type of 'roi', it should not return 'Image'\n",
    "print('ROI type:', roi.getInfo()['type'])  # Should print 'FeatureCollection'"
   ]
  },
  {
   "cell_type": "markdown",
   "id": "fc17389f-689c-4c1e-8c32-929c5f82f5f6",
   "metadata": {},
   "source": [
    "## Set Variables"
   ]
  },
  {
   "cell_type": "code",
   "execution_count": null,
   "id": "d53b57f0-f822-4908-85c6-566a5cf60440",
   "metadata": {},
   "outputs": [],
   "source": [
    "chirps = ee.ImageCollection(\"UCSB-CHG/CHIRPS/DAILY\")\n",
    "\n",
    "modis = ee.ImageCollection(\"MODIS/006/MOD13Q1\")\n",
    "\n",
    "spimonthlyvis = {\"opacity\":1,\"bands\":[\"SPI\"],\"min\":-4,\"max\":4,\"palette\":[\"d53e4f\",\"fc8d59\",\"fee08b\",\"ffffbf\",\"e6f598\",\"99d594\",\"3288bd\"]}\n",
    "\n",
    "spi16dayvis = {\"opacity\":1,\"bands\":[\"SPI_16Days\"],\"min\":-4,\"max\":4,\"palette\":[\"d53e4f\",\"fc8d59\",\"fee08b\",\"ffffbf\",\"e6f598\",\"99d594\",\"3288bd\"]}"
   ]
  },
  {
   "cell_type": "markdown",
   "id": "db447064-8b3b-4199-ab5a-2ee42b026639",
   "metadata": {},
   "source": [
    "## Set Time Frame\n",
    "\n",
    "If you want to use another period of time than the whole time span of CHIRPS data, \n",
    "change the code between ee.Date brackets (start_date & end_date) to the desired dates. \n",
    "Keep in mind, that a reduction of the time span will lead to a less accurate SPI calculation."
   ]
  },
  {
   "cell_type": "code",
   "execution_count": null,
   "id": "fabdde7d-a823-4d07-9329-9a94a7a2a50b",
   "metadata": {},
   "outputs": [],
   "source": [
    "firstimage = ee.Date(ee.List(chirps.get('date_range')).get(0))\n",
    "latestimage = ee.Date(chirps.limit(1, 'system:time_start',  False).first().get('system:time_start'))"
   ]
  },
  {
   "cell_type": "markdown",
   "id": "f496673a-b680-4874-90e5-5ec6d4a9ef0e",
   "metadata": {},
   "source": [
    "## Set Time Frame For Export\n",
    "\n",
    "As exporting all images over the whole investigation period might cause issues, a reduction of the images to be exported is advisable. You can change the start and end point for the export selection below. "
   ]
  },
  {
   "cell_type": "code",
   "execution_count": null,
   "id": "64570d42-41e4-4442-9395-dfe201c0ff4c",
   "metadata": {},
   "outputs": [],
   "source": [
    "exportdata = False; #set to 'True' if you wish to export images\n",
    "startdatefordownload = '2023-12-01'\n",
    "enddatefordownload = latestimage"
   ]
  },
  {
   "cell_type": "markdown",
   "id": "06a31051-9f7c-455e-b517-59fde89561b5",
   "metadata": {},
   "source": [
    "## Set Resolution\n",
    "\n",
    "CHIRPS datasets have a resolution of 0.05°. However, as GEE is using meter to define the resolution, you might have to recalculate the resolution for your AOI.\n",
    "\n",
    "A resolution of 0.05° corresponds to approximately 5550 meters at the equator. Depending on the size of your AOI it might be useful to decrease the resolution to a certain extent (eg. 10000). This shortens the processing time. However, the defined resolution effects the statistic calculations (plotted charts) and the exported image, not the displayed image.\n"
   ]
  },
  {
   "cell_type": "code",
   "execution_count": null,
   "id": "233ecf6d-f27f-4786-8962-eab7ceb60c1b",
   "metadata": {},
   "outputs": [],
   "source": [
    "resolution = 5550"
   ]
  },
  {
   "cell_type": "markdown",
   "id": "94f953c1-9ddf-46ff-a6ae-9a1aa9b5e29a",
   "metadata": {},
   "source": [
    "## Set Time Scale Information For SPI\n",
    "\n",
    "The SPI can be calculated based on different time scales. The scientific society usually recognizes one month as the shortest timescale for the calculation of the SPI. Shorter timescales might underly random  fluctuations in precipitation. However, the SPI can also be calculated for longer timescales, like 6 months. The following settings will give you the possibility to set your own time frame for the calculation of the SPI.\n",
    "\n",
    "Choose the number of months for the SPI. The default setting will calculate the SPI for 1 month. Setting the timestep to '6' will calculate the SPI for 6 months.\n",
    "\n",
    "Disclaimer - The calculation works for the following quantity of months: 1, 2, 3, 4, 5, 6, 7, 8, 9, 10, 11, 12, 24, 48 (Need to double check this)"
   ]
  },
  {
   "cell_type": "code",
   "execution_count": null,
   "id": "8aa83d31-d85a-417d-b146-fc6c776f6dbd",
   "metadata": {},
   "outputs": [],
   "source": [
    "timestep = '1'"
   ]
  },
  {
   "cell_type": "markdown",
   "id": "5eacb0f4-7641-401d-8373-ce7a9406a76d",
   "metadata": {},
   "source": [
    "## Set Time Shift For Modis Related SPI\n",
    "\n",
    "The 16-day SPI product is an additional product besides the 'normal' SPI and will be calculated for the same dates as MODIS's MOD13Q1.006 (NDVI and EVI) products. As the vegetation might need some time to respond to rainfall, it might be useful to apply a shift for the calculated 16-day SPI. For example: an applied shift of '-5' will cause the (16-day) SPI calculations to be started five days before the MODIS start dates and end the calculations five days earlier than the MODIS end dates as well. This feature might be useful when studying the response on vegetation towards rainfall. The variable \"days\" provides information about the observed days. As MODIS gives 16-Day products, the default value is set to 16. If you wish to increase the number of days anyway, you can change its value."
   ]
  },
  {
   "cell_type": "code",
   "execution_count": null,
   "id": "a11fd1b2-0fb6-48a0-8437-c44237bb5941",
   "metadata": {},
   "outputs": [],
   "source": [
    "shift = '0'\n",
    "days = '16'"
   ]
  },
  {
   "cell_type": "markdown",
   "id": "04ca33b6-4542-4ede-99ef-fa7d5cb8e4ef",
   "metadata": {},
   "source": [
    "# SPI Calculations"
   ]
  },
  {
   "cell_type": "markdown",
   "id": "bf02bca7-1200-4a14-9ae7-b4e88a658562",
   "metadata": {},
   "source": [
    "## Monthly SPI"
   ]
  },
  {
   "cell_type": "code",
   "execution_count": null,
   "id": "9b550490-8b7c-4b00-8e3b-73a2fe70fbba",
   "metadata": {},
   "outputs": [],
   "source": [
    "thresholdmonths = ee.Number(12)"
   ]
  },
  {
   "cell_type": "code",
   "execution_count": null,
   "id": "3812d847-f6d2-44e3-8a7a-30fe43230761",
   "metadata": {},
   "outputs": [],
   "source": [
    "#Create a list with a lag of one month between each list entry. Started from latest image counting backwards\n",
    "\n",
    "timedif = (latestimage.difference(firstimage, 'month')).divide(ee.Number.parse(timestep))"
   ]
  },
  {
   "cell_type": "code",
   "execution_count": null,
   "id": "833b34b0-4a46-44eb-a1aa-10dfbf143ce2",
   "metadata": {},
   "outputs": [],
   "source": [
    "#Creates a simple list\n",
    "\n",
    "list = ee.List.sequence(0, timedif)"
   ]
  },
  {
   "cell_type": "code",
   "execution_count": null,
   "id": "7b0d3e58-1c37-4227-abc0-782a61068fa9",
   "metadata": {},
   "outputs": [],
   "source": [
    "#Map the dates (beginning with the latest image) of the months ends over the list, counting backwards in time\n",
    "\n",
    "def func_gou(month):\n",
    "  zero = ee.Number(0) #Is needed to substract month\n",
    "  delta = (zero.subtract(month)).multiply(ee.Number.parse(timestep)) #results in a negative counting in the list (from latest image backwards) in the steps provided by the user\n",
    "  latestdate = latestimage.advance(1, 'day') #Advance one day to include the latest image (starts counting at 00:00 o'clock)\n",
    "  return latestdate.advance(delta, 'month') #returns a list of dates counted from latest date backwards\n",
    "\n",
    "timelistdate = list.map(func_gou)"
   ]
  },
  {
   "cell_type": "code",
   "execution_count": null,
   "id": "f30ef12f-a332-40c0-8644-e90489fbc1db",
   "metadata": {},
   "outputs": [],
   "source": [
    "#Sort list according to their dates\n",
    "\n",
    "sortedtimelist = timelistdate.sort()"
   ]
  },
  {
   "cell_type": "code",
   "execution_count": null,
   "id": "9f67f00e-70de-4209-a1bf-2e683ea9e50f",
   "metadata": {},
   "outputs": [],
   "source": [
    "# Calculate summed CHIRPS. Just those images will be kept, whose timeframe corrensponse to the user provided number of months\n",
    "\n",
    "def func_fxo(monthly_sum):\n",
    "    # Convert timestep to ee.Number if it's not already\n",
    "    timestep_num = ee.Number.parse(timestep)\n",
    "    \n",
    "    # Calculate start and end times\n",
    "    starttime = ee.Date(monthly_sum).advance(timestep_num.multiply(-1), 'month')\n",
    "    endtime = ee.Date(monthly_sum)\n",
    "    \n",
    "    # Filter the CHIRPS dataset\n",
    "    filteredCHIRPS = chirps.filterDate(starttime, endtime)\n",
    "    \n",
    "    # Clip the images to the Area of Interest\n",
    "    clippedCHIRPS = filteredCHIRPS.map(lambda clip: clip.clip(roi))\n",
    "    \n",
    "    # Calculate the number of images\n",
    "    imageAmount = clippedCHIRPS.size()\n",
    "    \n",
    "    # Sum the images in the collection\n",
    "    summedCollection = clippedCHIRPS.sum().set({\n",
    "        'Used_Images': imageAmount,\n",
    "        'Start_Date': ee.Date(filteredCHIRPS.first().get('system:time_start')),\n",
    "        'End_Date': ee.Date(filteredCHIRPS.sort('system:time_end', False).first().get('system:time_end')),\n",
    "        'system:time_start': filteredCHIRPS.first().get('system:time_start'),\n",
    "        'system:time_end': filteredCHIRPS.sort('system:time_end', False).first().get('system:time_end')\n",
    "    })\n",
    "    \n",
    "    # Calculate the observed months\n",
    "    time = ee.Date(summedCollection.get('system:time_end')).difference(ee.Date(summedCollection.get('system:time_start')), 'month').round()\n",
    "    \n",
    "    summedImage = summedCollection.set({\n",
    "        'Observed_Months': time\n",
    "    })\n",
    "    \n",
    "    # Return the summed image only if it meets the timestep requirement\n",
    "    return ee.Image(ee.Algorithms.If(time.gte(timestep_num), summedImage))\n",
    "\n",
    "# You will need to convert this list to ee.List if it's not already, and adjust your map function accordingly\n",
    "precipitationsum = ee.ImageCollection.fromImages(ee.List(timelistdate).map(func_fxo))\n",
    "\n"
   ]
  },
  {
   "cell_type": "code",
   "execution_count": null,
   "id": "699be613-ee76-454f-b0bf-63648a2c0091",
   "metadata": {},
   "outputs": [],
   "source": [
    "#Copy properties of CHIRPS collection to monthly collection\n",
    "\n",
    "summedchirpscollection = ee.ImageCollection(precipitationsum.copyProperties(chirps))"
   ]
  },
  {
   "cell_type": "code",
   "execution_count": null,
   "id": "63634e06-221f-47ab-bcb0-ba9a72de96b8",
   "metadata": {},
   "outputs": [],
   "source": [
    "summedchirpscollection"
   ]
  },
  {
   "cell_type": "code",
   "execution_count": null,
   "id": "31a3da3e-1266-4dcc-a5ce-3df66941a46b",
   "metadata": {},
   "outputs": [],
   "source": [
    "# If the SPI should be calculated for more then 12 months, a different approach has to be used. \n",
    "# The following lines decide, which approach to use.\n",
    "\n",
    "# Calculate SPI\n",
    "def to_spi(to_spi_img):\n",
    "    band_for_spi = to_spi_img.select(['precipitation'], ['SPI'])\n",
    "    calc = to_spi_img.expression(\n",
    "        '(precipitation - mean) / stdDev',\n",
    "        {\n",
    "            'precipitation': band_for_spi,\n",
    "            'mean': to_spi_img.select('precipitation_mean'),\n",
    "            'stdDev': to_spi_img.select('precipitation_stdDev')\n",
    "        }\n",
    "    )\n",
    "    return to_spi_img.addBands(calc)\n",
    "\n",
    "# If the SPI should be calculated for less than 12 months, the DOY information have to be used to find the correct images.\n",
    "\n",
    "def spi_smaller_12():\n",
    "    # Calculate Statistics\n",
    "    def to_stats(to_stats_img):\n",
    "        start_doy = ee.Date(to_stats_img.get('system:time_start')).getRelative('day', 'year')\n",
    "        end_doy = ee.Date(to_stats_img.get('system:time_end')).getRelative('day', 'year')\n",
    "        collection_for_stats = summedchirpscollection \\\n",
    "            .filter(ee.Filter.calendarRange(start_doy, end_doy, 'day_of_year')) \\\n",
    "            .reduce(ee.Reducer.stdDev().combine(ee.Reducer.mean(), None, True))\n",
    "        return to_stats_img.addBands(collection_for_stats)\n",
    "    \n",
    "    stats = summedchirpscollection.map(to_stats)\n",
    "    \n",
    "    spi_1_11 = stats.map(to_spi)\n",
    "    return spi_1_11\n",
    "\n",
    "# If the SPI should be calculated for 12 or more months, the DOY information are not necessary.\n",
    "# However, from 12 months onwards, it is just possible to calculate the SPI for whole years.\n",
    "# Eg. for 24 or 48 months. Calculating an SPI-18 will not work within this script\n",
    "\n",
    "def spi_greater_equal_12():\n",
    "    # Calculate Statistics\n",
    "    def to_stats(to_stats_img):\n",
    "        collection_for_stats = summedchirpscollection \\\n",
    "            .reduce(ee.Reducer.stdDev().combine(ee.Reducer.mean(), None, True))\n",
    "        return to_stats_img.addBands(collection_for_stats)\n",
    "    \n",
    "    stats = summedchirpscollection.map(to_stats)\n",
    "    \n",
    "    spi_12_n = stats.map(to_spi)\n",
    "    return spi_12_n\n",
    "\n",
    "# Decide which approach to use based on the timestep\n",
    "spi = ee.ImageCollection(\n",
    "    ee.Algorithms.If(\n",
    "        ee.Number.parse(timestep).gte(thresholdmonths),\n",
    "        spi_greater_equal_12(),\n",
    "        spi_smaller_12()\n",
    "    )\n",
    ")"
   ]
  },
  {
   "cell_type": "code",
   "execution_count": null,
   "id": "df25dc3b-6db4-4507-b5b7-4695662a0eef",
   "metadata": {},
   "outputs": [],
   "source": [
    "spi.first()"
   ]
  },
  {
   "cell_type": "code",
   "execution_count": null,
   "id": "bef22706-350f-4325-86b2-32af2a270200",
   "metadata": {
    "scrolled": true
   },
   "outputs": [],
   "source": [
    "# Creating a map\n",
    "m = geemap.Map(basemap='WorldTopoMap')\n",
    "\n",
    "# Define visualization parameters for the SPI.\n",
    "palette = ['blue', 'aqua', 'lime', 'yellow', 'orange', 'red']  # Respective to water content gradations\n",
    "\n",
    "viz_params = {\n",
    "    'min': -2,  # For an adapatable visual Rangefinder\n",
    "    'max': 2,\n",
    "    'palette': palette\n",
    "}\n",
    "\n",
    "first_spi_image = ee.Image(spi.first().select('SPI')) \n",
    "\n",
    "m.addLayer(first_spi_image, viz_params, 'SPI Analysis Outcome')\n",
    "m"
   ]
  },
  {
   "cell_type": "markdown",
   "id": "a2ed43b4-9f42-4684-9805-04ca04433673",
   "metadata": {},
   "source": [
    "## 16-day SPI from CHIRPS data in the MODIS 16-day timeline\n",
    "\n",
    "For calculating the 16-day Standardized Precipitation Index (SPI) from CHIRPS data in the MODIS 16-day timeline to Python for use with the Google Earth Engine (GEE) Python API, we do the following steps:\n",
    "\n",
    " 1. Aggregate MODIS Start Dates: First, create a list of MODIS start dates for each 16-day period.\n",
    "\n",
    " 1. Adjust Dates: Adjust these dates by a user-provided shift.\n",
    "\n",
    " 1. Sum CHIRPS Precipitation Data: For each 16-day period defined by the MODIS start dates, sum up the CHIRPS precipitation data.\n",
    "\n",
    " 1. Calculate Statistics: For each 16-day summed image, calculate the mean and standard deviation.\n",
    "\n",
    " 1. Calculate SPI: Finally, calculate the SPI for each period.\n",
    "\n"
   ]
  },
  {
   "cell_type": "code",
   "execution_count": null,
   "id": "e5259f7c-cbf8-4546-89bd-3fc2ff0eb9fc",
   "metadata": {},
   "outputs": [],
   "source": [
    "# 1. Create a list with modis start dates for each 16-day period.\n",
    "list_millis = modis.aggregate_array('system:time_start')\n",
    "\n",
    "# 2. Convert millis to date format, incorporating any user-provided time shift.\n",
    "list_dates = list_millis.map(lambda getDate: ee.Date(getDate).advance(ee.Number.parse(shift), 'day'))\n",
    "\n",
    "# 3. Sum up chirps precipitation data for each 16-day modis interval.\n",
    "def summarize_16_days(date):\n",
    "    date = ee.Date(date)\n",
    "    filter_chirps = chirps.filterDate(date, date.advance(ee.Number.parse(days), 'day'))\n",
    "    clipped_chirps = filter_chirps.map(lambda clip: clip.clip(roi))\n",
    "    image_amount = clipped_chirps.size()\n",
    "    return ee.Algorithms.If(\n",
    "        image_amount.gte(ee.Number.parse(days)),\n",
    "        clipped_chirps.sum().setMulti({\n",
    "            'Used_Images': image_amount,\n",
    "            'system:time_start': filter_chirps.first().get('system:time_start'),\n",
    "            'Start_Date': ee.Date(filter_chirps.first().get('system:time_start')),\n",
    "            'system:time_end': filter_chirps.limit(1, 'system:time_end', False).first().get('system:time_end'),\n",
    "            'End_Date': ee.Date(filter_chirps.limit(1, 'system:time_end', False).first().get('system:time_end'))\n",
    "        })\n",
    "    )\n",
    "\n",
    "precipitation_16_days = ee.ImageCollection.fromImages(list_dates.map(summarize_16_days))\n",
    "\n",
    "# 4. Calculate statistics for each image.\n",
    "def calculate_stats(image):\n",
    "    image = ee.Image(image)\n",
    "    start_doy = ee.Date(image.get('system:time_start')).getRelative('day', 'year')\n",
    "    end_doy = ee.Date(image.get('system:time_end')).getRelative('day', 'year')\n",
    "    image_amount = precipitation_16_days.filter(ee.Filter.calendarRange(start_doy, end_doy, 'day_of_year')).size()\n",
    "    collection_for_stats = precipitation_16_days.filter(ee.Filter.calendarRange(start_doy, end_doy, 'day_of_year')).reduce(ee.Reducer.stdDev().combine(ee.Reducer.mean(), None, True))\n",
    "    return image.addBands(collection_for_stats).setMulti({'Images_for_Stats': image_amount})\n",
    "\n",
    "stats_16_day_collection = precipitation_16_days.map(calculate_stats)\n",
    "\n",
    "# 5. Calculate SPI.\n",
    "def to_spi_16_days(image):\n",
    "    image = ee.Image(image)\n",
    "    band_for_spi = image.select(['precipitation'], ['SPI_16Days'])\n",
    "    calc = image.expression(\n",
    "        '(precipitation - mean) / stdDev',\n",
    "        {\n",
    "            'precipitation': band_for_spi,\n",
    "            'mean': image.select('precipitation_mean'),\n",
    "            'stdDev': image.select('precipitation_stdDev')\n",
    "        }\n",
    "    )\n",
    "    return image.addBands(calc)\n",
    "\n",
    "final_16_day_collection = stats_16_day_collection.map(to_spi_16_days)"
   ]
  },
  {
   "cell_type": "code",
   "execution_count": null,
   "id": "f92142b9-7249-4af7-90fa-2d5500fac5c9",
   "metadata": {
    "scrolled": true
   },
   "outputs": [],
   "source": [
    "final_16_day_collection"
   ]
  },
  {
   "cell_type": "markdown",
   "id": "d7720f9d-aa90-4d0e-bef7-61f0ffe5aea4",
   "metadata": {},
   "source": [
    "## Create a Map"
   ]
  },
  {
   "cell_type": "code",
   "execution_count": null,
   "id": "80a60314-62cb-481c-ae48-cab67d07af9e",
   "metadata": {},
   "outputs": [],
   "source": [
    "print(f\"The observed time period for the SPI-{timestep} begins on \" + \n",
    "      f\"{firstimage.format('YYYY-MM-dd').getInfo()} and ends on \" + \n",
    "      f\"{latestimage.format('YYYY-MM-dd').getInfo()}\")"
   ]
  },
  {
   "cell_type": "code",
   "execution_count": null,
   "id": "76ecbbfa-9a48-47f9-ab80-65b2732f0033",
   "metadata": {
    "scrolled": true
   },
   "outputs": [],
   "source": [
    "m = geemap.Map(basemap='WorldTopoMap')\n",
    "\n",
    "m.centerObject(roi, 7) \n",
    "\n",
    "# 16-Day SPI (If your SPI band has a different name, replace 'SPI_16Days' with the correct one)\n",
    "most_recent_image = final_16_day_collection.sort('system:time_start', False).first()\n",
    "spi_16 = most_recent_image.select(['SPI_16Days']) \n",
    "\n",
    "#SPI Analysis Outcome\n",
    "spi_monthly = ee.Image(spi.first().select('SPI')) \n",
    "\n",
    "left_layer = geemap.ee_tile_layer(spi_monthly, spimonthlyvis, 'SPI Analysis Outcome')\n",
    "right_layer = geemap.ee_tile_layer(spi_16, spi16dayvis, '16-Day SPI')\n",
    "\n",
    "m.split_map(left_layer, right_layer)\n",
    "m"
   ]
  },
  {
   "cell_type": "markdown",
   "id": "ec862da7-b2fd-47b5-b0be-6c4e3ce41796",
   "metadata": {},
   "source": [
    "# Creating Timelapses"
   ]
  },
  {
   "cell_type": "markdown",
   "id": "d686d281-50d0-480d-9e8c-cceeb7b47f0b",
   "metadata": {},
   "source": [
    "## Creating Monthly SPI Timelapse"
   ]
  },
  {
   "cell_type": "markdown",
   "id": "80c4b312-c7c3-4f5a-a795-330185d40f79",
   "metadata": {},
   "source": [
    "Specify the date range"
   ]
  },
  {
   "cell_type": "code",
   "execution_count": null,
   "id": "07d9856b-9960-4290-974b-33440478eb8c",
   "metadata": {},
   "outputs": [],
   "source": [
    "start_date = '2016-01-01'\n",
    "end_date = '2022-12-31'"
   ]
  },
  {
   "cell_type": "code",
   "execution_count": null,
   "id": "379bf5c3-6748-4aea-bd3e-ad1ebbc23753",
   "metadata": {},
   "outputs": [],
   "source": [
    "images = geemap.create_timeseries(\n",
    "    spi, start_date, end_date, roi, frequency='year', reducer='median'\n",
    ")\n",
    "images"
   ]
  },
  {
   "cell_type": "code",
   "execution_count": null,
   "id": "7e6d964a-9d58-4256-a375-66f6b7e98a98",
   "metadata": {
    "scrolled": true
   },
   "outputs": [],
   "source": [
    "# Display the timeseries\n",
    "\n",
    "m = geemap.Map()\n",
    "vis_params = spimonthlyvis\n",
    "labels = [str(y) for y in range(int(start_date[:4]), int(end_date[:4]) + 1)]\n",
    "m.add_layer(images, vis_params, 'SPI Analysis Outcome', False)\n",
    "m.add_time_slider(images, vis_params, time_interval=2, labels=labels)\n",
    "m.center_object(roi)\n",
    "m"
   ]
  },
  {
   "cell_type": "markdown",
   "id": "b2c99232-e4f7-470f-8590-7f6b6379cf6b",
   "metadata": {},
   "source": [
    "## Creating 16-Day SPI SPI Timelapse"
   ]
  },
  {
   "cell_type": "markdown",
   "id": "46a35797-bfc8-4acd-854f-648cf6fbb47f",
   "metadata": {},
   "source": [
    "Specify the date range"
   ]
  },
  {
   "cell_type": "code",
   "execution_count": null,
   "id": "4de3f08e-0da1-4bfc-a8f5-900309e56cc7",
   "metadata": {},
   "outputs": [],
   "source": [
    "start_date = '2016-01-01'\n",
    "end_date = '2022-12-31'"
   ]
  },
  {
   "cell_type": "code",
   "execution_count": null,
   "id": "379fd4c1-37d8-4325-b863-bf1cf37bbcea",
   "metadata": {},
   "outputs": [],
   "source": [
    "images = geemap.create_timeseries(\n",
    "    final_16_day_collection, start_date, end_date, roi, frequency='year', reducer='min'\n",
    ")\n",
    "images"
   ]
  },
  {
   "cell_type": "code",
   "execution_count": null,
   "id": "b8a5819c-5d22-4d79-adfa-a0ce831c53da",
   "metadata": {
    "scrolled": true
   },
   "outputs": [],
   "source": [
    "# Display the timeseries\n",
    "\n",
    "m = geemap.Map()\n",
    "vis_params = spi16dayvis\n",
    "labels = [str(y) for y in range(int(start_date[:4]), int(end_date[:4]) + 1)]\n",
    "m.add_layer(images, vis_params, '16-Day SPI', False)\n",
    "m.add_time_slider(images, vis_params, time_interval=2, labels=labels)\n",
    "m.center_object(roi)\n",
    "m"
   ]
  },
  {
   "cell_type": "markdown",
   "id": "9f1bed03-4a5f-45e9-91f5-4532869ad51f",
   "metadata": {},
   "source": [
    "# Zonal statistics"
   ]
  },
  {
   "cell_type": "markdown",
   "id": "d8b14389-9da3-45d3-9ee7-c15faf16d6c7",
   "metadata": {},
   "source": [
    "## Zonal statistics - Monthly SPI"
   ]
  },
  {
   "cell_type": "code",
   "execution_count": null,
   "id": "af21bcfe-15f8-4806-a6b2-2d24148f0ee8",
   "metadata": {},
   "outputs": [],
   "source": [
    "## Compute image descriptive statistics\n",
    "\n",
    "# Most Recent 16-Day SPI (If your SPI band has a different name, replace 'SPI_16Days' with the correct one)\n",
    "most_recent_image = final_16_day_collection.sort('system:time_start', False).first()\n",
    "spi_16 = most_recent_image.select(['SPI_16Days']) \n",
    "\n",
    "# Most Recent SPI Analysis Outcome\n",
    "spi_monthly = ee.Image(spi.first().select('SPI')) \n",
    "\n",
    "stats = geemap.image_stats(spi_monthly, scale=30)\n",
    "stats"
   ]
  },
  {
   "cell_type": "code",
   "execution_count": null,
   "id": "6ae61d61-d898-498c-ac05-319810e697be",
   "metadata": {},
   "outputs": [],
   "source": [
    "props = geemap.image_props(spi_monthly)\n",
    "props"
   ]
  },
  {
   "cell_type": "markdown",
   "id": "89272566-7511-4aa3-9b7b-63b7d86c6fb4",
   "metadata": {},
   "source": [
    "### Export Statistics"
   ]
  },
  {
   "cell_type": "code",
   "execution_count": null,
   "id": "09e993b6-792e-45ae-9da1-26cc6d8731f4",
   "metadata": {},
   "outputs": [],
   "source": [
    "#Export SPI Monthly Statistics\n",
    "\n",
    "spi_csv = 'spi_monthly.csv'\n",
    "geemap.zonal_stats(\n",
    "    spi, roi, spi_csv, stat_type='MEAN', scale=1000, return_fc=False\n",
    ")"
   ]
  },
  {
   "cell_type": "code",
   "execution_count": null,
   "id": "f50e06c2-fdec-43c2-ac8a-2db6177c9e79",
   "metadata": {},
   "outputs": [],
   "source": [
    "#Export SPI 16 Monthly Statistics\n",
    "\n",
    "spi16_csv = 'spi_16.csv'\n",
    "geemap.zonal_stats(\n",
    "    spi_16, roi, spi16_csv, stat_type='MEAN', scale=1000, return_fc=False\n",
    ")"
   ]
  }
 ],
 "metadata": {
  "kernelspec": {
   "display_name": "Python 3 (ipykernel)",
   "language": "python",
   "name": "python3"
  },
  "language_info": {
   "codemirror_mode": {
    "name": "ipython",
    "version": 3
   },
   "file_extension": ".py",
   "mimetype": "text/x-python",
   "name": "python",
   "nbconvert_exporter": "python",
   "pygments_lexer": "ipython3",
   "version": "3.11.7"
  }
 },
 "nbformat": 4,
 "nbformat_minor": 5
}
